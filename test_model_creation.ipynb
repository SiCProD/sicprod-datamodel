{
 "cells": [
  {
   "cell_type": "code",
   "execution_count": 1,
   "metadata": {},
   "outputs": [],
   "source": [
    "from lxml import etree"
   ]
  },
  {
   "cell_type": "code",
   "execution_count": 2,
   "metadata": {},
   "outputs": [],
   "source": [
    "tree = etree.parse(\"model.xml\")"
   ]
  },
  {
   "cell_type": "code",
   "execution_count": 9,
   "metadata": {},
   "outputs": [
    {
     "data": {
      "text/plain": [
       "[<Element class at 0x7fcd16dfd040>,\n",
       " <Element class at 0x7fcd16d63180>,\n",
       " <Element class at 0x7fcd04e0ba00>,\n",
       " <Element class at 0x7fcd04e32240>,\n",
       " <Element class at 0x7fcd04e331c0>,\n",
       " <Element class at 0x7fcd04e33280>,\n",
       " <Element class at 0x7fcd04e332c0>]"
      ]
     },
     "execution_count": 9,
     "metadata": {},
     "output_type": "execute_result"
    }
   ],
   "source": [
    "tree.xpath(\"//model/classes/class\")"
   ]
  },
  {
   "cell_type": "code",
   "execution_count": 12,
   "metadata": {},
   "outputs": [
    {
     "name": "stdout",
     "output_type": "stream",
     "text": [
      "property\n",
      "person.name\n",
      "property\n",
      "person.first_name\n",
      "property\n",
      "person.start_date_written\n",
      "property\n",
      "person.end_date_written\n",
      "property\n",
      "person.gender\n",
      "property\n",
      "person.class_affiliation\n",
      "property\n",
      "person.alternative_label\n",
      "property\n",
      "function.name\n",
      "property\n",
      "function.alternative_label\n",
      "property\n",
      "place.name\n",
      "property\n",
      "place.alternative_label\n",
      "property\n",
      "place.type\n",
      "property\n",
      "place.latitude\n",
      "property\n",
      "place.longitude\n",
      "property\n",
      "institution.name\n",
      "property\n",
      "institution.alternative_label\n",
      "property\n",
      "institution.type\n",
      "property\n",
      "institution.start_date_written\n",
      "property\n",
      "institution.end_date_written\n",
      "property\n",
      "court.name\n",
      "property\n",
      "court.alternative_label\n",
      "property\n",
      "court.type\n",
      "property\n",
      "court.start_date_written\n",
      "property\n",
      "court.end_date_written\n",
      "property\n",
      "event.name\n",
      "property\n",
      "event.alternative_label\n",
      "property\n",
      "event.type\n",
      "property\n",
      "event.start_date_written\n",
      "property\n",
      "event.end_date_written\n",
      "property\n",
      "salary.amount\n",
      "property\n",
      "salary.currency\n",
      "property\n",
      "salary.repetitions\n",
      "property\n",
      "salary.repetition_note\n",
      "property\n",
      "salary.type\n",
      "property\n",
      "salary.start_date_written\n",
      "property\n",
      "salary.end_date_written\n"
     ]
    }
   ],
   "source": [
    "for cls in tree.xpath(\"//model/classes/class\"):\n",
    "    cls_id = cls.xpath(\"./@ID\")[0]\n",
    "    for att in cls.xpath(\"./properties/property\"):\n",
    "        print(att.tag)\n",
    "        att_id = att.xpath(\"./@ID\")[0]\n",
    "        print(att_id)"
   ]
  },
  {
   "cell_type": "code",
   "execution_count": 3,
   "metadata": {},
   "outputs": [],
   "source": [
    "from jinja2 import Environment, FileSystemLoader"
   ]
  },
  {
   "cell_type": "code",
   "execution_count": 4,
   "metadata": {},
   "outputs": [],
   "source": [
    "jinja_env = Environment(loader=FileSystemLoader('django_orm_templates/'), autoescape=False)"
   ]
  },
  {
   "cell_type": "code",
   "execution_count": 3,
   "metadata": {},
   "outputs": [],
   "source": [
    "query_template = jinja_env.get_template(\"entity.txt\").render({\"cls\": \"person\", \"base_cls\": \"test\", \"properties\": [\"test2\", \"test3\"]})"
   ]
  },
  {
   "cell_type": "code",
   "execution_count": 5,
   "metadata": {},
   "outputs": [],
   "source": [
    "q2 = jinja_env.get_template(\"prop_choicefield.txt\").render({\"name\": \"test1\", \"length\": 15, \"choices\": [\"test1\", \"test2\"]})"
   ]
  },
  {
   "cell_type": "code",
   "execution_count": 8,
   "metadata": {},
   "outputs": [
    {
     "data": {
      "text/plain": [
       "'@reversion.register(follow=[\"tempentityclass_ptr\"])\\nclass person(test):\\n    # auto generated from model xml\\n    \\n    test2\\n    \\n    test3\\n    '"
      ]
     },
     "execution_count": 8,
     "metadata": {},
     "output_type": "execute_result"
    }
   ],
   "source": [
    "query_template"
   ]
  },
  {
   "cell_type": "code",
   "execution_count": 7,
   "metadata": {},
   "outputs": [],
   "source": [
    "with open(\"test2.py\", \"w\") as out:\n",
    "    out.write(q2)"
   ]
  },
  {
   "cell_type": "code",
   "execution_count": 6,
   "metadata": {},
   "outputs": [
    {
     "data": {
      "text/plain": [
       "'TEST1_CHOICES = ((\"test1\", \"test1\"), (\"test2\", \"test2\"), )\\ntest1 = models.CharField(max_length=15, choices=TEST1_CHOICES, blank=True)'"
      ]
     },
     "execution_count": 6,
     "metadata": {},
     "output_type": "execute_result"
    }
   ],
   "source": [
    "q2"
   ]
  },
  {
   "cell_type": "code",
   "execution_count": 8,
   "metadata": {},
   "outputs": [],
   "source": [
    "TEST1_CHOICES = ((\"test1\", \"test1\"), (\"test2\", \"test2\"), )"
   ]
  },
  {
   "cell_type": "code",
   "execution_count": 3,
   "metadata": {},
   "outputs": [],
   "source": [
    "\n",
    "q3 = jinja_env.get_template(\"rel_property.txt\").render({\"name\": \"data read from\", \"name_reverse\": \"read opposite\", \"subjects\": [\"person\", \"places\"], \"objects\": [\"events\"]})"
   ]
  },
  {
   "cell_type": "code",
   "execution_count": 4,
   "metadata": {},
   "outputs": [
    {
     "data": {
      "text/plain": [
       "'data_read_from = Property.objects.create(\\n        name=\"data read from\",\\n        name_reverse=\"read opposite\",\\n    )\\ndata_read_from.subj_class.add(ContentType.objects.get(model=person.__name__))\\ndata_read_from.subj_class.add(ContentType.objects.get(model=places.__name__))\\n\\ndata_read_from.obj_class.add(ContentType.objects.get(model=events.__name__))\\n'"
      ]
     },
     "execution_count": 4,
     "metadata": {},
     "output_type": "execute_result"
    }
   ],
   "source": [
    "q3"
   ]
  },
  {
   "cell_type": "code",
   "execution_count": 5,
   "metadata": {},
   "outputs": [],
   "source": [
    "with open(\"test3.py\", \"w\") as out:\n",
    "    out.write(q3)"
   ]
  },
  {
   "cell_type": "code",
   "execution_count": 5,
   "metadata": {},
   "outputs": [],
   "source": [
    "map_fields = {\n",
    "    \"float\": \"floatfield\",\n",
    "    \"int\": \"integerfield\",\n",
    "    \"shortText\": \"charfield\",\n",
    "    \"longText\": \"textfield\",\n",
    "    \"choiceField\": \"choicefield\"   \n",
    "}"
   ]
  },
  {
   "cell_type": "code",
   "execution_count": 6,
   "metadata": {},
   "outputs": [
    {
     "name": "stdout",
     "output_type": "stream",
     "text": [
      "person.name\n",
      "shortText\n",
      "person.first_name\n",
      "shortText\n",
      "person.gender\n",
      "choiceField\n",
      "['männlich', 'weiblich', 'unbekannt']\n",
      "person.class_affiliation\n",
      "choiceField\n",
      "['Hoher Adel', 'Niederer Adel', 'Klerus', 'Bürgertum', 'Bauerntum', 'Gesinde']\n",
      "person.alternative_label\n",
      "longText\n",
      "['name = models.CharField(max_length=1024, blank=True, null=True)', 'first_name = models.CharField(max_length=1024, blank=True, null=True)', 'GENDER_CHOICES = ((\"männlich\", \"männlich\"), (\"weiblich\", \"weiblich\"), (\"unbekannt\", \"unbekannt\"), )\\n    gender = models.CharField(max_length=9, choices=GENDER_CHOICES, blank=True)', 'CLASS_AFFILIATION_CHOICES = ((\"Hoher Adel\", \"Hoher Adel\"), (\"Niederer Adel\", \"Niederer Adel\"), (\"Klerus\", \"Klerus\"), (\"Bürgertum\", \"Bürgertum\"), (\"Bauerntum\", \"Bauerntum\"), (\"Gesinde\", \"Gesinde\"), )\\n    class_affiliation = models.CharField(max_length=13, choices=CLASS_AFFILIATION_CHOICES, blank=True)', 'alternative_label = models.TextField(blank=True, null=True)']\n",
      "function.name\n",
      "shortText\n",
      "function.alternative_label\n",
      "longText\n",
      "['name = models.CharField(max_length=1024, blank=True, null=True)', 'alternative_label = models.TextField(blank=True, null=True)']\n",
      "place.name\n",
      "shortText\n",
      "place.alternative_label\n",
      "longText\n",
      "place.type\n",
      "choiceField\n",
      "['Stadt', 'Dorf', 'Burg', 'Land/Herrschaftskomplex', 'Landschaft/Region']\n",
      "place.latitude\n",
      "float\n",
      "place.longitude\n",
      "float\n",
      "['name = models.CharField(max_length=1024, blank=True, null=True)', 'alternative_label = models.TextField(blank=True, null=True)', 'TYPE_CHOICES = ((\"Stadt\", \"Stadt\"), (\"Dorf\", \"Dorf\"), (\"Burg\", \"Burg\"), (\"Land/Herrschaftskomplex\", \"Land/Herrschaftskomplex\"), (\"Landschaft/Region\", \"Landschaft/Region\"), )\\n    type = models.CharField(max_length=23, choices=TYPE_CHOICES, blank=True)', 'latitude = models.FloatField(null=True, blank=True)', 'longitude = models.FloatField(null=True, blank=True)']\n",
      "institution.name\n",
      "shortText\n",
      "institution.alternative_label\n",
      "longText\n",
      "institution.type\n",
      "choiceField\n",
      "['Kanzlei', 'Hofkapelle', 'Küche', '(Dom-)Kapitel', 'Universität', 'Kloster', 'Frauenzimmer', 'Bistum', 'Pfarrei']\n",
      "['name = models.CharField(max_length=1024, blank=True, null=True)', 'alternative_label = models.TextField(blank=True, null=True)', 'TYPE_CHOICES = ((\"Kanzlei\", \"Kanzlei\"), (\"Hofkapelle\", \"Hofkapelle\"), (\"Küche\", \"Küche\"), (\"(Dom-)Kapitel\", \"(Dom-)Kapitel\"), (\"Universität\", \"Universität\"), (\"Kloster\", \"Kloster\"), (\"Frauenzimmer\", \"Frauenzimmer\"), (\"Bistum\", \"Bistum\"), (\"Pfarrei\", \"Pfarrei\"), )\\n    type = models.CharField(max_length=13, choices=TYPE_CHOICES, blank=True)']\n",
      "court.name\n",
      "shortText\n",
      "court.alternative_label\n",
      "longText\n",
      "court.type\n",
      "choiceField\n",
      "['Hof', 'Klosterhof', 'Kaiserhof', 'Königshof', 'Bischöflicher Hof', 'Kurfürstlicher Hof', 'Erzbischöflicher Hof', 'Königlicher Hof', 'Kaiserlicher Hof', 'Frauenzimmer']\n",
      "['name = models.CharField(max_length=1024, blank=True, null=True)', 'alternative_label = models.TextField(blank=True, null=True)', 'TYPE_CHOICES = ((\"Hof\", \"Hof\"), (\"Klosterhof\", \"Klosterhof\"), (\"Kaiserhof\", \"Kaiserhof\"), (\"Königshof\", \"Königshof\"), (\"Bischöflicher Hof\", \"Bischöflicher Hof\"), (\"Kurfürstlicher Hof\", \"Kurfürstlicher Hof\"), (\"Erzbischöflicher Hof\", \"Erzbischöflicher Hof\"), (\"Königlicher Hof\", \"Königlicher Hof\"), (\"Kaiserlicher Hof\", \"Kaiserlicher Hof\"), (\"Frauenzimmer\", \"Frauenzimmer\"), )\\n    type = models.CharField(max_length=20, choices=TYPE_CHOICES, blank=True)']\n",
      "event.name\n",
      "shortText\n",
      "event.alternative_label\n",
      "longText\n",
      "event.type\n",
      "choiceField\n",
      "['Hochzeit', 'Landtag', 'Fest/Turnier', 'Schlacht', 'Gesandtschaft/Reise', 'Taufe', 'Amtseinsetzung', 'Reichstag']\n",
      "['name = models.CharField(max_length=1024, blank=True, null=True)', 'alternative_label = models.TextField(blank=True, null=True)', 'TYPE_CHOICES = ((\"Hochzeit\", \"Hochzeit\"), (\"Landtag\", \"Landtag\"), (\"Fest/Turnier\", \"Fest/Turnier\"), (\"Schlacht\", \"Schlacht\"), (\"Gesandtschaft/Reise\", \"Gesandtschaft/Reise\"), (\"Taufe\", \"Taufe\"), (\"Amtseinsetzung\", \"Amtseinsetzung\"), (\"Reichstag\", \"Reichstag\"), )\\n    type = models.CharField(max_length=19, choices=TYPE_CHOICES, blank=True)']\n",
      "salary.amount\n",
      "float\n",
      "salary.currency\n",
      "shortText\n",
      "salary.repetitions\n",
      "int\n",
      "salary.repetition_note\n",
      "longText\n",
      "salary.type\n",
      "choiceField\n",
      "['einfach', 'wiederholend']\n",
      "['amount = models.FloatField(null=True, blank=True)', 'currency = models.CharField(max_length=1024, blank=True, null=True)', 'repetitions = models.IntegerField(null=True, blank=True)', 'repetition_note = models.TextField(blank=True, null=True)', 'TYPE_CHOICES = ((\"einfach\", \"einfach\"), (\"wiederholend\", \"wiederholend\"), )\\n    type = models.CharField(max_length=12, choices=TYPE_CHOICES, blank=True)']\n"
     ]
    }
   ],
   "source": [
    "entities = []\n",
    "relations = {}\n",
    "for cls in tree.xpath(\"//model/classes/class\"):\n",
    "    cls_id = cls.xpath(\"./@ID\")[0]\n",
    "    properties = []\n",
    "    for att in cls.xpath(\"./properties/property\"):\n",
    "        att_id = att.xpath(\"./@ID\")[0]\n",
    "        if \"date_written\" in att_id or att_id.split(\".\")[-1] == \"name\":\n",
    "            continue\n",
    "        print(att_id)\n",
    "        datatype = att.xpath(\"./datatypeName/@target\")[0]\n",
    "        vocabref = att.xpath(\"./datatypeName/@vocabRef\")\n",
    "        print(datatype)\n",
    "        if datatype == \"choiceField\" and len(vocabref) > 0:\n",
    "            lst_choices = tree.xpath(f\"//vocab[@ID = '{vocabref[0]}']/values/list/item/text()\")\n",
    "            print(lst_choices)\n",
    "            properties.append(jinja_env.get_template(\"prop_choicefield.txt\").render({\"name\": att_id.split(\".\")[-1], \"length\": max([len(x) for x in lst_choices]), \"choices\": lst_choices}))\n",
    "        else:\n",
    "            properties.append(jinja_env.get_template(f\"prop_{map_fields[datatype]}.txt\").render({\"name\": att_id.split(\".\")[-1]}))\n",
    "    print(properties)\n",
    "    entities.append(jinja_env.get_template(\"entity.txt\").render({\"cls\": cls_id, \"base_cls\": \"TempEntityClass\", \"properties\": properties}))\n",
    "    for rel in cls.xpath(\"./relations/relation\"):\n",
    "        src = rel.xpath(\"./sourceClass/@target\")[0].split(\" \")\n",
    "        trgt = rel.xpath(\"./targetClass/@target\")[0].split(\" \")\n",
    "        name = rel.xpath(\"./name/text()\")[0]\n",
    "        name_reverse = rel.xpath(\"./reverseName/text()\")[0]\n",
    "        if name not in relations:\n",
    "            relations[name] = {\n",
    "                \"name\": name,\n",
    "                \"name_reverse\": name_reverse,\n",
    "                \"subjects\": src,\n",
    "                \"objects\": trgt,\n",
    "                }\n",
    "        else:\n",
    "            if relations[name][\"name_reverse\"] != name_reverse:\n",
    "                print(\"You got a mismatch in vocabs names\")\n",
    "            else:\n",
    "                if src not in relations[\"name\"][\"subjects\"]:\n",
    "                    relations[\"name\"][\"subjects\"].extend(src)\n",
    "                if trgt not in relations[\"name\"][\"objects\"]:\n",
    "                    relations[\"name\"][\"objects\"].extend(trgt)\n",
    "rels2 = []\n",
    "for vals in relations.values():\n",
    "    rels2.append(jinja_env.get_template(\"rel_property.txt\").render(vals))\n",
    "models = jinja_env.get_template(\"models.txt\").render({\"entities\": entities, \"relations\": rels2})"
   ]
  },
  {
   "cell_type": "code",
   "execution_count": 7,
   "metadata": {},
   "outputs": [],
   "source": [
    "with open(\"test_model2.py\", \"w\") as out:\n",
    "    out.write(models)"
   ]
  },
  {
   "cell_type": "code",
   "execution_count": 31,
   "metadata": {},
   "outputs": [
    {
     "data": {
      "text/plain": [
       "'import reversion\\nfrom django.contrib.contenttypes.models import ContentType\\nfrom django.db import models\\nfrom apis_core.apis_entities.models import TempEntityClass\\n\\n\\n\\n\\n\\n\\n\\n\\n\\n\\n\\n\\n\\n\\n\\n\\n\\ndef construct_properties():\\n\\n    from apis_core.apis_vocabularies.models import TextType\\n    from apis_core.apis_metainfo.models import Collection\\n    from apis_core.apis_relations.models import Property\\n    from apis_highlighter.models import AnnotationProject, Project\\n    from django.contrib.auth.models import User\\n\\n    '"
      ]
     },
     "execution_count": 31,
     "metadata": {},
     "output_type": "execute_result"
    }
   ],
   "source": [
    "models"
   ]
  },
  {
   "cell_type": "code",
   "execution_count": null,
   "metadata": {},
   "outputs": [],
   "source": []
  }
 ],
 "metadata": {
  "kernelspec": {
   "display_name": "Python 3.10.8 64-bit",
   "language": "python",
   "name": "python3"
  },
  "language_info": {
   "codemirror_mode": {
    "name": "ipython",
    "version": 3
   },
   "file_extension": ".py",
   "mimetype": "text/x-python",
   "name": "python",
   "nbconvert_exporter": "python",
   "pygments_lexer": "ipython3",
   "version": "3.10.8"
  },
  "orig_nbformat": 4,
  "vscode": {
   "interpreter": {
    "hash": "949777d72b0d2535278d3dc13498b2535136f6dfe0678499012e853ee9abcab1"
   }
  }
 },
 "nbformat": 4,
 "nbformat_minor": 2
}
